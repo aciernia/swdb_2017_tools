{
 "cells": [
  {
   "cell_type": "markdown",
   "metadata": {},
   "source": [
    "# Run a Gene Ontology Enrichment Analysis (GOEA)\n",
    "We use data from a 2014 Nature paper:    \n",
    "[Computational analysis of cell-to-cell heterogeneity\n",
    "in single-cell RNA-sequencing data reveals hidden \n",
    "subpopulations of cells\n",
    "](http://www.nature.com/nbt/journal/v33/n2/full/nbt.3102.html#methods)\n",
    "\n",
    "Note: you must have the Python package, **xlrd**, installed to run this example. \n",
    "\n",
    "Note: To create plots, you must have:\n",
    "  * Python packages: **pyparsing**, **pydot**\n",
    "  * [Graphviz](http://www.graphviz.org/) loaded and your PATH environmental variable pointing to the Graphviz bin directory."
   ]
  },
  {
   "cell_type": "markdown",
   "metadata": {},
   "source": [
    "## 1. Download Ontologies and Associations"
   ]
  },
  {
   "cell_type": "markdown",
   "metadata": {},
   "source": [
    "### 1a. Download Ontologies, if necessary"
   ]
  },
  {
   "cell_type": "code",
   "execution_count": 1,
   "metadata": {},
   "outputs": [
    {
     "name": "stdout",
     "output_type": "stream",
     "text": [
      "  EXISTS: go-basic.obo\n"
     ]
    }
   ],
   "source": [
    "# Get http://geneontology.org/ontology/go-basic.obo\n",
    "from goatools.base import download_go_basic_obo\n",
    "obo_fname = download_go_basic_obo()"
   ]
  },
  {
   "cell_type": "markdown",
   "metadata": {},
   "source": [
    "### 1b. Download Associations, if necessary"
   ]
  },
  {
   "cell_type": "code",
   "execution_count": 2,
   "metadata": {},
   "outputs": [
    {
     "name": "stdout",
     "output_type": "stream",
     "text": [
      "  EXISTS: gene2go\n"
     ]
    }
   ],
   "source": [
    "# Get ftp://ftp.ncbi.nlm.nih.gov/gene/DATA/gene2go.gz\n",
    "from goatools.base import download_ncbi_associations\n",
    "gene2go = download_ncbi_associations()"
   ]
  },
  {
   "cell_type": "markdown",
   "metadata": {},
   "source": [
    "## 2. Load Ontologies, Associations and Background gene set "
   ]
  },
  {
   "cell_type": "markdown",
   "metadata": {},
   "source": [
    "### 2a. Load Ontologies"
   ]
  },
  {
   "cell_type": "code",
   "execution_count": 3,
   "metadata": {},
   "outputs": [
    {
     "name": "stdout",
     "output_type": "stream",
     "text": [
      "load obo file go-basic.obo\n",
      "go-basic.obo: fmt(1.2) rel(2017-08-29) 49,075 GO Terms\n"
     ]
    }
   ],
   "source": [
    "from goatools.obo_parser import GODag\n",
    "\n",
    "obodag = GODag(\"go-basic.obo\")"
   ]
  },
  {
   "cell_type": "markdown",
   "metadata": {},
   "source": [
    "### 2b. Load Associations"
   ]
  },
  {
   "cell_type": "code",
   "execution_count": 4,
   "metadata": {},
   "outputs": [
    {
     "name": "stdout",
     "output_type": "stream",
     "text": [
      "19,732 annotated mouse genes\n"
     ]
    }
   ],
   "source": [
    "from __future__ import print_function\n",
    "from goatools.associations import read_ncbi_gene2go\n",
    "\n",
    "geneid2gos_mouse = read_ncbi_gene2go(\"gene2go\", taxids=[10090])\n",
    "\n",
    "print(\"{N:,} annotated mouse genes\".format(N=len(geneid2gos_mouse)))"
   ]
  },
  {
   "cell_type": "markdown",
   "metadata": {},
   "source": [
    "### 2c. Load Background gene set\n",
    "In this example, the background is all mouse protein-codinge genes"
   ]
  },
  {
   "cell_type": "code",
   "execution_count": 9,
   "metadata": {},
   "outputs": [],
   "source": [
    "#from goatools.test_data.genes_NCBI_10090_ProteinCoding import GeneID2nt as GeneID2nt_mus\n",
    "from genes_NCBI_10090_ProteinCoding import GeneID2nt as GeneID2nt_mus"
   ]
  },
  {
   "cell_type": "markdown",
   "metadata": {},
   "source": [
    "## 3. Initialize a GOEA object\n",
    "The GOEA object holds the Ontologies, Associations, and background.    \n",
    "Numerous studies can then be run withough needing to re-load the above items.    \n",
    "In this case, we only run one GOEA.    "
   ]
  },
  {
   "cell_type": "code",
   "execution_count": 10,
   "metadata": {},
   "outputs": [
    {
     "name": "stdout",
     "output_type": "stream",
     "text": [
      "fisher module not installed.  Falling back on scipy.stats.fisher_exact\n",
      "18,825 out of 28,212 population items found in association\n"
     ]
    }
   ],
   "source": [
    "from goatools.go_enrichment import GOEnrichmentStudy\n",
    "\n",
    "goeaobj = GOEnrichmentStudy(\n",
    "        GeneID2nt_mus.keys(), # List of mouse protein-coding genes\n",
    "        geneid2gos_mouse, # geneid/GO associations\n",
    "        obodag, # Ontologies\n",
    "        propagate_counts = False,\n",
    "        alpha = 0.05, # default significance cut-off\n",
    "        methods = ['fdr_bh']) # defult multipletest correction method\n"
   ]
  },
  {
   "cell_type": "code",
   "execution_count": 252,
   "metadata": {},
   "outputs": [
    {
     "ename": "TypeError",
     "evalue": "'GOEnrichmentStudy' object does not support indexing",
     "output_type": "error",
     "traceback": [
      "\u001b[0;31m---------------------------------------------------------------------------\u001b[0m",
      "\u001b[0;31mTypeError\u001b[0m                                 Traceback (most recent call last)",
      "\u001b[0;32m<ipython-input-252-20dc189fa95f>\u001b[0m in \u001b[0;36m<module>\u001b[0;34m()\u001b[0m\n\u001b[0;32m----> 1\u001b[0;31m \u001b[0mgoeaobj\u001b[0m\u001b[0;34m[\u001b[0m\u001b[0;36m1\u001b[0m\u001b[0;34m]\u001b[0m\u001b[0;34m\u001b[0m\u001b[0m\n\u001b[0m",
      "\u001b[0;31mTypeError\u001b[0m: 'GOEnrichmentStudy' object does not support indexing"
     ]
    }
   ],
   "source": []
  },
  {
   "cell_type": "markdown",
   "metadata": {},
   "source": [
    "## 4. Read study genes\n",
    "~400 genes from the Nature paper supplemental table 4"
   ]
  },
  {
   "cell_type": "code",
   "execution_count": 306,
   "metadata": {
    "scrolled": true
   },
   "outputs": [
    {
     "name": "stdout",
     "output_type": "stream",
     "text": [
      "querying 1-500...done.\n",
      "Finished.\n",
      "50 input query terms found dup hits:\n",
      "\t[(u'Gm17751', 2), (u'Snord104', 2), (u'Mir3064', 2), (u'Snord100', 2), (u'Snord49b', 2), (u'4933431E\n",
      "Pass \"returnall=True\" to return complete lists of duplicate or missing query terms.\n",
      "querying 1-500...done.\n",
      "Finished.\n",
      "36 input query terms found dup hits:\n",
      "\t[(u'1700111N16Rik', 2), (u'A330076H08Rik', 2), (u'Pvt1', 2), (u'Gm10125', 2), (u'Bola2', 2), (u'Tmem\n",
      "Pass \"returnall=True\" to return complete lists of duplicate or missing query terms.\n",
      "querying 1-500...done.\n",
      "Finished.\n",
      "54 input query terms found dup hits:\n",
      "\t[(u'1700084E18Rik', 2), (u'9230105E05Rik', 2), (u'A230077H06Rik', 2), (u'C130026L21Rik', 2), (u'A430\n",
      "Pass \"returnall=True\" to return complete lists of duplicate or missing query terms.\n",
      "querying 1-500...done.\n",
      "Finished.\n",
      "24 input query terms found dup hits:\n",
      "\t[(u'5031425E22Rik', 2), (u'A230057D06Rik', 4), (u'Gpx2-ps1', 2), (u'BC039771', 2), (u'6330410L21Rik'\n",
      "Pass \"returnall=True\" to return complete lists of duplicate or missing query terms.\n",
      "querying 1-500...done.\n",
      "Finished.\n",
      "58 input query terms found dup hits:\n",
      "\t[(u'Gm8894', 2), (u'A730090N16Rik', 2), (u'Mir344b', 2), (u'Mir297a-4', 2), (u'Adat3', 2), (u'150000\n",
      "Pass \"returnall=True\" to return complete lists of duplicate or missing query terms.\n",
      "querying 1-500...done.\n",
      "Finished.\n",
      "35 input query terms found dup hits:\n",
      "\t[(u'Mpc1-ps', 2), (u'6820431F20Rik', 2), (u'Snord96a', 2), (u'1700052K11Rik', 2), (u'Gm10538', 2), (\n",
      "Pass \"returnall=True\" to return complete lists of duplicate or missing query terms.\n",
      "querying 1-500...done.\n",
      "Finished.\n",
      "35 input query terms found dup hits:\n",
      "\t[(u'1700044K03Rik', 2), (u'Gm8894', 2), (u'Gm15708', 2), (u'Mir344g', 2), (u'2410003L11Rik', 2), (u'\n",
      "Pass \"returnall=True\" to return complete lists of duplicate or missing query terms.\n",
      "querying 1-500...done.\n",
      "Finished.\n",
      "39 input query terms found dup hits:\n",
      "\t[(u'A830009L08Rik', 2), (u'AW495222', 2), (u'1810044D09Rik', 2), (u'Ftx', 2), (u'1700001L05Rik', 2),\n",
      "Pass \"returnall=True\" to return complete lists of duplicate or missing query terms.\n",
      "querying 1-500...done.\n",
      "Finished.\n",
      "67 input query terms found dup hits:\n",
      "\t[(u'C330022C24Rik', 2), (u'4930502E09Rik', 2), (u'Ptprv', 2), (u'4933408J17Rik', 2), (u'Tmem132cos',\n",
      "Pass \"returnall=True\" to return complete lists of duplicate or missing query terms.\n",
      "querying 1-500...done.\n",
      "Finished.\n",
      "46 input query terms found dup hits:\n",
      "\t[(u'Gm6047', 2), (u'A730090N16Rik', 2), (u'Mir297a-4', 2), (u'Trav3-3', 2), (u'Ppp2r3d', 2), (u'Mir1\n",
      "1 input query terms found no hit:\n",
      "\t[u'D630045M09Rik']\n",
      "Pass \"returnall=True\" to return complete lists of duplicate or missing query terms.\n",
      "querying 1-500...done.\n",
      "Finished.\n",
      "64 input query terms found dup hits:\n",
      "\t[(u'4930594C11Rik', 2), (u'4932435O22Rik', 2), (u'Rhox3d-ps', 2), (u'4933417G07Rik', 2), (u'Mir669h'\n",
      "Pass \"returnall=True\" to return complete lists of duplicate or missing query terms.\n",
      "querying 1-500...done.\n",
      "Finished.\n",
      "35 input query terms found dup hits:\n",
      "\t[(u'9230105E05Rik', 2), (u'4930502E09Rik', 2), (u'C130026L21Rik', 2), (u'Plxna4os1', 2), (u'Snord91a\n",
      "Pass \"returnall=True\" to return complete lists of duplicate or missing query terms.\n",
      "querying 1-500...done.\n",
      "Finished.\n",
      "42 input query terms found dup hits:\n",
      "\t[(u'8030423F21Rik', 2), (u'A830052D11Rik', 2), (u'Tomm6os', 2), (u'6820431F20Rik', 2), (u'Snord96a',\n",
      "Pass \"returnall=True\" to return complete lists of duplicate or missing query terms.\n",
      "querying 1-500...done.\n",
      "Finished.\n",
      "50 input query terms found dup hits:\n",
      "\t[(u'Gm1943', 2), (u'9030612E09Rik', 2), (u'Gm8894', 2), (u'5530601H04Rik', 2), (u'4932435O22Rik', 2)\n",
      "Pass \"returnall=True\" to return complete lists of duplicate or missing query terms.\n",
      "querying 1-500...done.\n",
      "Finished.\n",
      "70 input query terms found dup hits:\n",
      "\t[(u'4930594C11Rik', 2), (u'Rhox3d-ps', 2), (u'4933417G07Rik', 2), (u'Mir669h', 2), (u'Gm15708', 2), \n",
      "Pass \"returnall=True\" to return complete lists of duplicate or missing query terms.\n",
      "querying 1-500...done.\n",
      "Finished.\n",
      "69 input query terms found dup hits:\n",
      "\t[(u'Scarna6', 2), (u'C330022C24Rik', 2), (u'4930502E09Rik', 2), (u'Ptprv', 2), (u'Snord49a', 2), (u'\n",
      "Pass \"returnall=True\" to return complete lists of duplicate or missing query terms.\n",
      "querying 1-500...done.\n",
      "Finished.\n",
      "50 input query terms found dup hits:\n",
      "\t[(u'Scarna8', 2), (u'Gm15772', 2), (u'Gm10754', 2), (u'Mir344f', 2), (u'Nespas', 2), (u'Tmem132cos',\n",
      "Pass \"returnall=True\" to return complete lists of duplicate or missing query terms.\n",
      "querying 1-500...done.\n",
      "Finished.\n",
      "35 input query terms found dup hits:\n",
      "\t[(u'A830009L08Rik', 2), (u'Gm8801', 2), (u'Ftx', 2), (u'1700001L05Rik', 2), (u'2810032G03Rik', 2), (\n",
      "Pass \"returnall=True\" to return complete lists of duplicate or missing query terms.\n",
      "querying 1-500...done.\n",
      "Finished.\n",
      "47 input query terms found dup hits:\n",
      "\t[(u'9030612E09Rik', 2), (u'Mir344b', 2), (u'A330076H08Rik', 2), (u'5031425E22Rik', 2), (u'A230057D06\n",
      "Pass \"returnall=True\" to return complete lists of duplicate or missing query terms.\n",
      "querying 1-500...done.\n",
      "Finished.\n",
      "50 input query terms found dup hits:\n",
      "\t[(u'A230077H06Rik', 2), (u'Snord100', 2), (u'Snord49b', 2), (u'6820431F20Rik', 2), (u'4931440J10Rik'\n",
      "Pass \"returnall=True\" to return complete lists of duplicate or missing query terms.\n"
     ]
    }
   ],
   "source": [
    "import sys\n",
    "import os\n",
    "import pandas as pd\n",
    "import mygene\n",
    "from unpack_dict_to_col_pd import unpack\n",
    "mg = mygene.MyGeneInfo()\n",
    "\n",
    "drive_path = '/Volumes/Brain2017/project/'\n",
    "output_path = '/Volumes/Brain2017/project/GO_term_analysis_ephys/ephys_goterms/fine/'\n",
    "\n",
    "#read in gene symbols:\n",
    "ephys_genes = pd.read_csv('/Volumes/Brain2017/project/GO_term_analysis_ephys/top_ephys/top_ephys_genes_fine.csv', index_col = 0)\n",
    "\n",
    "#remove r squared columns:\n",
    "cols = [c for c in ephys_genes.columns if c.lower()[:2] != 'r_']\n",
    "ephys_symbol = ephys_genes[cols]\n",
    "ephys_symbol = pd.DataFrame(ephys_symbol)\n",
    "\n",
    "#convert gene symbols to entrezgene ids, remove NAs and save to dictionary for each for each ephys measure\n",
    "output = {}\n",
    "for c in ephys_symbol.columns:\n",
    "    out = mg.querymany(ephys_symbol[c], scopes='symbol', fields='entrezgene', species='mouse')\n",
    "    out = pd.DataFrame(out)\n",
    "    out = out.dropna(subset = ['entrezgene'])\n",
    "    out.entrezgene = out.entrezgene.astype(int)\n",
    "    entrezgene = out.entrezgene\n",
    "    #filter for protein coding genes:\n",
    "    entrezgene = entrezgene[entrezgene.isin(GeneID2nt_mus.keys())].dropna()\n",
    "    output[c] = entrezgene\n",
    "\n",
    "\n",
    "#pd.DataFrame(d, columns=('Player', 'Team', 'Passer Rating'))"
   ]
  },
  {
   "cell_type": "code",
   "execution_count": 303,
   "metadata": {
    "scrolled": true
   },
   "outputs": [
    {
     "name": "stdout",
     "output_type": "stream",
     "text": [
      "querying 1-500...done.\n",
      "Finished.\n",
      "69 input query terms found dup hits:\n",
      "\t[(u'Ftx', 2), (u'4921515E04Rik', 2), (u'Mir669h', 2), (u'Gm19619', 2), (u'6030408B16Rik', 2), (u'Tra\n",
      "1 input query terms found no hit:\n",
      "\t[u'D630045M09Rik']\n",
      "Pass \"returnall=True\" to return complete lists of duplicate or missing query terms.\n"
     ]
    },
    {
     "data": {
      "text/plain": [
       "2       12352\n",
       "7       56643\n",
       "8      102278\n",
       "9       22171\n",
       "10     246727\n",
       "11      17470\n",
       "15     240328\n",
       "16     239420\n",
       "17      21933\n",
       "18      71398\n",
       "26     272643\n",
       "27     433938\n",
       "28     232232\n",
       "29     233799\n",
       "30      20928\n",
       "31      96935\n",
       "32      69367\n",
       "33      56726\n",
       "35      20493\n",
       "36      67455\n",
       "37      94191\n",
       "40     210293\n",
       "46      15015\n",
       "47     195046\n",
       "48      13395\n",
       "54      56078\n",
       "57      12984\n",
       "58      68177\n",
       "59      93843\n",
       "62      69576\n",
       "        ...  \n",
       "537     99470\n",
       "538    242037\n",
       "539     71816\n",
       "540     63857\n",
       "541     50796\n",
       "542     23801\n",
       "543     56375\n",
       "544    320590\n",
       "545    240776\n",
       "546     13006\n",
       "547     12683\n",
       "549    381077\n",
       "550     66435\n",
       "551    620913\n",
       "552     74166\n",
       "553    233900\n",
       "554     69080\n",
       "555    229937\n",
       "556     26900\n",
       "559     11441\n",
       "560    271375\n",
       "561     21987\n",
       "562    105859\n",
       "563     75956\n",
       "564     21974\n",
       "565     11758\n",
       "567    244882\n",
       "568    216395\n",
       "569     53328\n",
       "570    237107\n",
       "Name: entrezgene, dtype: int64"
      ]
     },
     "execution_count": 303,
     "metadata": {},
     "output_type": "execute_result"
    }
   ],
   "source": [
    "output['pos_upstroke_downstroke_ratio_long_square']\n",
    "\n",
    "out = mg.querymany(ephys_symbol['pos_upstroke_downstroke_ratio_long_square'], scopes='symbol', fields='entrezgene', species='mouse')\n",
    "out = pd.DataFrame(out)\n",
    "out = out.dropna(subset = ['entrezgene'])\n",
    "out.entrezgene = out.entrezgene.astype(int)\n",
    "entrezgene = out.entrezgene\n",
    "#filter for protein coding genes:\n",
    "\n",
    "entrezgene = entrezgene[entrezgene.isin(GeneID2nt_mus.keys())].dropna()\n",
    "\n",
    "entrezgene"
   ]
  },
  {
   "cell_type": "markdown",
   "metadata": {},
   "source": [
    "## 5. Run Gene Ontology Enrichment Analysis (GOEA)\n",
    "You may choose to keep all results or just the significant results. In this example, we choose to keep only the significant results."
   ]
  },
  {
   "cell_type": "code",
   "execution_count": 307,
   "metadata": {},
   "outputs": [
    {
     "name": "stdout",
     "output_type": "stream",
     "text": [
      "Calculating uncorrected p-values using fisher_scipy_stats\n",
      "   428 out of    460 study items found in association\n",
      "Running multitest correction: statsmodels fdr_bh\n",
      "  2,476 GO terms are associated with 428 of 460 study items\n",
      "  17,384 GO terms are associated with 18,825 of 28,212 population items\n",
      "     24 items WROTE: /Volumes/Brain2017/project/GO_term_analysis_ephys/ephys_goterms/fine/neg_adaptationGOEA_resultsFine_sig.xlsx\n",
      "Calculating uncorrected p-values using fisher_scipy_stats\n",
      "   422 out of    455 study items found in association\n",
      "Running multitest correction: statsmodels fdr_bh\n",
      "  2,868 GO terms are associated with 422 of 455 study items\n",
      "  17,384 GO terms are associated with 18,825 of 28,212 population items\n",
      "     50 items WROTE: /Volumes/Brain2017/project/GO_term_analysis_ephys/ephys_goterms/fine/neg_vrestGOEA_resultsFine_sig.xlsx\n",
      "Calculating uncorrected p-values using fisher_scipy_stats\n",
      "   431 out of    459 study items found in association\n",
      "Running multitest correction: statsmodels fdr_bh\n",
      "  2,852 GO terms are associated with 431 of 459 study items\n",
      "  17,384 GO terms are associated with 18,825 of 28,212 population items\n",
      "     56 items WROTE: /Volumes/Brain2017/project/GO_term_analysis_ephys/ephys_goterms/fine/neg_sagGOEA_resultsFine_sig.xlsx\n",
      "Calculating uncorrected p-values using fisher_scipy_stats\n",
      "   404 out of    442 study items found in association\n",
      "Running multitest correction: statsmodels fdr_bh\n",
      "  2,729 GO terms are associated with 404 of 442 study items\n",
      "  17,384 GO terms are associated with 18,825 of 28,212 population items\n",
      "     15 items WROTE: /Volumes/Brain2017/project/GO_term_analysis_ephys/ephys_goterms/fine/pos_adaptationGOEA_resultsFine_sig.xlsx\n",
      "Calculating uncorrected p-values using fisher_scipy_stats\n",
      "   447 out of    460 study items found in association\n",
      "Running multitest correction: statsmodels fdr_bh\n",
      "  2,680 GO terms are associated with 447 of 460 study items\n",
      "  17,384 GO terms are associated with 18,825 of 28,212 population items\n",
      "     47 items WROTE: /Volumes/Brain2017/project/GO_term_analysis_ephys/ephys_goterms/fine/pos_vrestGOEA_resultsFine_sig.xlsx\n",
      "Calculating uncorrected p-values using fisher_scipy_stats\n",
      "   385 out of    421 study items found in association\n",
      "Running multitest correction: statsmodels fdr_bh\n",
      "  2,460 GO terms are associated with 385 of 421 study items\n",
      "  17,384 GO terms are associated with 18,825 of 28,212 population items\n",
      "      5 items WROTE: /Volumes/Brain2017/project/GO_term_analysis_ephys/ephys_goterms/fine/pos_upstroke_downstroke_ratio_long_squareGOEA_resultsFine_sig.xlsx\n",
      "Calculating uncorrected p-values using fisher_scipy_stats\n",
      "   399 out of    438 study items found in association\n",
      "Running multitest correction: statsmodels fdr_bh\n",
      "  2,739 GO terms are associated with 399 of 438 study items\n",
      "  17,384 GO terms are associated with 18,825 of 28,212 population items\n",
      "      6 items WROTE: /Volumes/Brain2017/project/GO_term_analysis_ephys/ephys_goterms/fine/pos_riGOEA_resultsFine_sig.xlsx\n",
      "Calculating uncorrected p-values using fisher_scipy_stats\n",
      "   396 out of    428 study items found in association\n",
      "Running multitest correction: statsmodels fdr_bh\n",
      "  2,485 GO terms are associated with 396 of 428 study items\n",
      "  17,384 GO terms are associated with 18,825 of 28,212 population items\n",
      "      3 items WROTE: /Volumes/Brain2017/project/GO_term_analysis_ephys/ephys_goterms/fine/neg_upstroke_downstroke_ratio_long_squareGOEA_resultsFine_sig.xlsx\n",
      "Calculating uncorrected p-values using fisher_scipy_stats\n",
      "   419 out of    443 study items found in association\n",
      "Running multitest correction: statsmodels fdr_bh\n",
      "  2,543 GO terms are associated with 419 of 443 study items\n",
      "  17,384 GO terms are associated with 18,825 of 28,212 population items\n",
      "     23 items WROTE: /Volumes/Brain2017/project/GO_term_analysis_ephys/ephys_goterms/fine/pos_fast_trough_v_long_squareGOEA_resultsFine_sig.xlsx\n",
      "Calculating uncorrected p-values using fisher_scipy_stats\n",
      "   423 out of    446 study items found in association\n",
      "Running multitest correction: statsmodels fdr_bh\n",
      "  2,497 GO terms are associated with 423 of 446 study items\n",
      "  17,384 GO terms are associated with 18,825 of 28,212 population items\n",
      "     66 items WROTE: /Volumes/Brain2017/project/GO_term_analysis_ephys/ephys_goterms/fine/pos_sagGOEA_resultsFine_sig.xlsx\n",
      "Calculating uncorrected p-values using fisher_scipy_stats\n",
      "   442 out of    473 study items found in association\n",
      "Running multitest correction: statsmodels fdr_bh\n",
      "  2,652 GO terms are associated with 442 of 473 study items\n",
      "  17,384 GO terms are associated with 18,825 of 28,212 population items\n",
      "     23 items WROTE: /Volumes/Brain2017/project/GO_term_analysis_ephys/ephys_goterms/fine/neg_avg_isiGOEA_resultsFine_sig.xlsx\n",
      "Calculating uncorrected p-values using fisher_scipy_stats\n",
      "   395 out of    427 study items found in association\n",
      "Running multitest correction: statsmodels fdr_bh\n",
      "  2,458 GO terms are associated with 395 of 427 study items\n",
      "  17,384 GO terms are associated with 18,825 of 28,212 population items\n",
      "     12 items WROTE: /Volumes/Brain2017/project/GO_term_analysis_ephys/ephys_goterms/fine/pos_threshold_i_rampGOEA_resultsFine_sig.xlsx\n",
      "Calculating uncorrected p-values using fisher_scipy_stats\n",
      "   413 out of    445 study items found in association\n",
      "Running multitest correction: statsmodels fdr_bh\n",
      "  2,594 GO terms are associated with 413 of 445 study items\n",
      "  17,384 GO terms are associated with 18,825 of 28,212 population items\n",
      "     10 items WROTE: /Volumes/Brain2017/project/GO_term_analysis_ephys/ephys_goterms/fine/neg_fast_trough_v_long_squareGOEA_resultsFine_sig.xlsx\n",
      "Calculating uncorrected p-values using fisher_scipy_stats\n",
      "   429 out of    462 study items found in association\n",
      "Running multitest correction: statsmodels fdr_bh\n",
      "  2,837 GO terms are associated with 429 of 462 study items\n",
      "  17,384 GO terms are associated with 18,825 of 28,212 population items\n",
      "     14 items WROTE: /Volumes/Brain2017/project/GO_term_analysis_ephys/ephys_goterms/fine/neg_slow_trough_t_long_squareGOEA_resultsFine_sig.xlsx\n",
      "Calculating uncorrected p-values using fisher_scipy_stats\n",
      "   401 out of    434 study items found in association\n",
      "Running multitest correction: statsmodels fdr_bh\n",
      "  2,643 GO terms are associated with 401 of 434 study items\n",
      "  17,384 GO terms are associated with 18,825 of 28,212 population items\n",
      "     12 items WROTE: /Volumes/Brain2017/project/GO_term_analysis_ephys/ephys_goterms/fine/pos_avg_isiGOEA_resultsFine_sig.xlsx\n",
      "Calculating uncorrected p-values using fisher_scipy_stats\n",
      "   411 out of    445 study items found in association\n",
      "Running multitest correction: statsmodels fdr_bh\n",
      "  2,628 GO terms are associated with 411 of 445 study items\n",
      "  17,384 GO terms are associated with 18,825 of 28,212 population items\n",
      "     18 items WROTE: /Volumes/Brain2017/project/GO_term_analysis_ephys/ephys_goterms/fine/neg_threshold_i_rampGOEA_resultsFine_sig.xlsx\n",
      "Calculating uncorrected p-values using fisher_scipy_stats\n",
      "   396 out of    429 study items found in association\n",
      "Running multitest correction: statsmodels fdr_bh\n",
      "  2,566 GO terms are associated with 396 of 429 study items\n",
      "  17,384 GO terms are associated with 18,825 of 28,212 population items\n",
      "      6 items WROTE: /Volumes/Brain2017/project/GO_term_analysis_ephys/ephys_goterms/fine/pos_slow_trough_t_long_squareGOEA_resultsFine_sig.xlsx\n",
      "Calculating uncorrected p-values using fisher_scipy_stats\n",
      "   416 out of    443 study items found in association\n",
      "Running multitest correction: statsmodels fdr_bh\n",
      "  2,593 GO terms are associated with 416 of 443 study items\n",
      "  17,384 GO terms are associated with 18,825 of 28,212 population items\n",
      "     16 items WROTE: /Volumes/Brain2017/project/GO_term_analysis_ephys/ephys_goterms/fine/neg_f_i_curve_slopeGOEA_resultsFine_sig.xlsx\n",
      "Calculating uncorrected p-values using fisher_scipy_stats\n",
      "   407 out of    450 study items found in association\n",
      "Running multitest correction: statsmodels fdr_bh\n",
      "  2,649 GO terms are associated with 407 of 450 study items\n",
      "  17,384 GO terms are associated with 18,825 of 28,212 population items\n",
      "     13 items WROTE: /Volumes/Brain2017/project/GO_term_analysis_ephys/ephys_goterms/fine/pos_f_i_curve_slopeGOEA_resultsFine_sig.xlsx\n",
      "Calculating uncorrected p-values using fisher_scipy_stats\n",
      "   425 out of    459 study items found in association\n"
     ]
    },
    {
     "name": "stdout",
     "output_type": "stream",
     "text": [
      "Running multitest correction: statsmodels fdr_bh\n",
      "  2,532 GO terms are associated with 425 of 459 study items\n",
      "  17,384 GO terms are associated with 18,825 of 28,212 population items\n",
      "     17 items WROTE: /Volumes/Brain2017/project/GO_term_analysis_ephys/ephys_goterms/fine/neg_riGOEA_resultsFine_sig.xlsx\n"
     ]
    }
   ],
   "source": [
    "# 'p_' means \"pvalue\". 'fdr_bh' is the multipletest method we are currently using.\n",
    "goea_results_sig_dict = {}\n",
    "for key in output.keys():\n",
    "    # 'p_' means \"pvalue\". 'fdr_bh' is the multipletest method we are currently using.\n",
    "    #geneids_study = geneid2symbol.keys()\n",
    "    geneids_study = output[key]\n",
    "    goea_results_all = goeaobj.run_study(geneids_study)\n",
    "    goea_results_sig = [r for r in goea_results_all if r.p_fdr_bh < 0.05]\n",
    "    goeaobj.wr_xlsx(str(output_path) + str(key) + \"GOEA_resultsFine_sig.xlsx\", goea_results_sig)    \n",
    "\n",
    "    goea_results_sig_dict[key] = goea_results_sig\n"
   ]
  },
  {
   "cell_type": "code",
   "execution_count": 292,
   "metadata": {},
   "outputs": [
    {
     "data": {
      "text/plain": [
       "'pos_upstroke_downstroke_ratio_long_square'"
      ]
     },
     "execution_count": 292,
     "metadata": {},
     "output_type": "execute_result"
    }
   ],
   "source": [
    "key\n"
   ]
  },
  {
   "cell_type": "code",
   "execution_count": 208,
   "metadata": {},
   "outputs": [
    {
     "ename": "SyntaxError",
     "evalue": "invalid syntax (<ipython-input-208-3c1bbfe30d4d>, line 1)",
     "output_type": "error",
     "traceback": [
      "\u001b[0;36m  File \u001b[0;32m\"<ipython-input-208-3c1bbfe30d4d>\"\u001b[0;36m, line \u001b[0;32m1\u001b[0m\n\u001b[0;31m    GOEnrichmentRecord(GO:0006355)\u001b[0m\n\u001b[0m                         ^\u001b[0m\n\u001b[0;31mSyntaxError\u001b[0m\u001b[0;31m:\u001b[0m invalid syntax\n"
     ]
    }
   ],
   "source": [
    "one_record = GOEnrichmentRecord(\n",
    "            GO=term,\n",
    "            p_uncorrected=calc_pvalue(study_count, study_n, pop_count, pop_n),\n",
    "            study_items=study_items,\n",
    "            pop_items=pop_items,\n",
    "            ratio_in_study=(study_count, study_n),\n",
    "            ratio_in_pop=(pop_count, pop_n))\n",
    " #extract fields from georesults\n",
    "n = goea_results['neg_ri'][0]\n",
    "print(n.GO)\n",
    "print(n.name)\n",
    "print(n.NS)\n",
    "print(n.study_n)\n",
    "print(n.ratio_in_pop)\n",
    "print(n.ratio_in_study)"
   ]
  },
  {
   "cell_type": "markdown",
   "metadata": {},
   "source": [
    "## 7. Plot all significant GO terms\n",
    "Plotting all significant GO terms produces a messy spaghetti plot. Such a plot can be useful sometimes because you can open it and zoom and scroll around. But sometimes it is just too messy to be of use.\n",
    "\n",
    "The **\"{NS}\"** in **\"nbt3102_{NS}.png\"** indicates that you will see three plots, one for \"biological_process\"(BP), \"molecular_function\"(MF), and \"cellular_component\"(CC)"
   ]
  },
  {
   "cell_type": "code",
   "execution_count": 65,
   "metadata": {},
   "outputs": [
    {
     "ename": "Exception",
     "evalue": "\"dot\" not found in path.",
     "output_type": "error",
     "traceback": [
      "\u001b[0;31m---------------------------------------------------------------------------\u001b[0m",
      "\u001b[0;31mException\u001b[0m                                 Traceback (most recent call last)",
      "\u001b[0;32m<ipython-input-65-acf11769d687>\u001b[0m in \u001b[0;36m<module>\u001b[0;34m()\u001b[0m\n\u001b[1;32m      1\u001b[0m \u001b[0;32mfrom\u001b[0m \u001b[0mgoatools\u001b[0m\u001b[0;34m.\u001b[0m\u001b[0mgodag_plot\u001b[0m \u001b[0;32mimport\u001b[0m \u001b[0mplot_gos\u001b[0m\u001b[0;34m,\u001b[0m \u001b[0mplot_results\u001b[0m\u001b[0;34m,\u001b[0m \u001b[0mplot_goid2goobj\u001b[0m\u001b[0;34m\u001b[0m\u001b[0m\n\u001b[1;32m      2\u001b[0m \u001b[0;34m\u001b[0m\u001b[0m\n\u001b[0;32m----> 3\u001b[0;31m \u001b[0mplot_results\u001b[0m\u001b[0;34m(\u001b[0m\u001b[0;34m\"nbt3102_{NS}.png\"\u001b[0m\u001b[0;34m,\u001b[0m \u001b[0mgoea_results_sig\u001b[0m\u001b[0;34m)\u001b[0m\u001b[0;34m\u001b[0m\u001b[0m\n\u001b[0m",
      "\u001b[0;32m/Applications/anaconda/lib/python2.7/site-packages/goatools/godag_plot.pyc\u001b[0m in \u001b[0;36mplot_results\u001b[0;34m(fout_png, goea_results, *args, **kws)\u001b[0m\n\u001b[1;32m     35\u001b[0m         \u001b[0;32mfor\u001b[0m \u001b[0mns_name\u001b[0m\u001b[0;34m,\u001b[0m \u001b[0mns_res\u001b[0m \u001b[0;32min\u001b[0m \u001b[0mns2goea_results\u001b[0m\u001b[0;34m.\u001b[0m\u001b[0mitems\u001b[0m\u001b[0;34m(\u001b[0m\u001b[0;34m)\u001b[0m\u001b[0;34m:\u001b[0m\u001b[0;34m\u001b[0m\u001b[0m\n\u001b[1;32m     36\u001b[0m             \u001b[0mpng\u001b[0m \u001b[0;34m=\u001b[0m \u001b[0mfout_png\u001b[0m\u001b[0;34m.\u001b[0m\u001b[0mformat\u001b[0m\u001b[0;34m(\u001b[0m\u001b[0mNS\u001b[0m\u001b[0;34m=\u001b[0m\u001b[0mns_name\u001b[0m\u001b[0;34m)\u001b[0m\u001b[0;34m\u001b[0m\u001b[0m\n\u001b[0;32m---> 37\u001b[0;31m             \u001b[0mplt_goea_results\u001b[0m\u001b[0;34m(\u001b[0m\u001b[0mpng\u001b[0m\u001b[0;34m,\u001b[0m \u001b[0mns_res\u001b[0m\u001b[0;34m,\u001b[0m \u001b[0;34m*\u001b[0m\u001b[0margs\u001b[0m\u001b[0;34m,\u001b[0m \u001b[0;34m**\u001b[0m\u001b[0mkws\u001b[0m\u001b[0;34m)\u001b[0m\u001b[0;34m\u001b[0m\u001b[0m\n\u001b[0m\u001b[1;32m     38\u001b[0m \u001b[0;34m\u001b[0m\u001b[0m\n\u001b[1;32m     39\u001b[0m \u001b[0;32mdef\u001b[0m \u001b[0mplt_goea_results\u001b[0m\u001b[0;34m(\u001b[0m\u001b[0mfout_png\u001b[0m\u001b[0;34m,\u001b[0m \u001b[0mgoea_results\u001b[0m\u001b[0;34m,\u001b[0m \u001b[0;34m*\u001b[0m\u001b[0margs\u001b[0m\u001b[0;34m,\u001b[0m \u001b[0;34m**\u001b[0m\u001b[0mkws\u001b[0m\u001b[0;34m)\u001b[0m\u001b[0;34m:\u001b[0m\u001b[0;34m\u001b[0m\u001b[0m\n",
      "\u001b[0;32m/Applications/anaconda/lib/python2.7/site-packages/goatools/godag_plot.pyc\u001b[0m in \u001b[0;36mplt_goea_results\u001b[0;34m(fout_png, goea_results, *args, **kws)\u001b[0m\n\u001b[1;32m     42\u001b[0m     \u001b[0mgodagsmall\u001b[0m \u001b[0;34m=\u001b[0m \u001b[0mOboToGoDagSmall\u001b[0m\u001b[0;34m(\u001b[0m\u001b[0mgoea_results\u001b[0m\u001b[0;34m=\u001b[0m\u001b[0mgoea_results\u001b[0m\u001b[0;34m)\u001b[0m\u001b[0;34m.\u001b[0m\u001b[0mgodag\u001b[0m\u001b[0;34m\u001b[0m\u001b[0m\n\u001b[1;32m     43\u001b[0m     \u001b[0mgodagplot\u001b[0m \u001b[0;34m=\u001b[0m \u001b[0mGODagSmallPlot\u001b[0m\u001b[0;34m(\u001b[0m\u001b[0mgodagsmall\u001b[0m\u001b[0;34m,\u001b[0m \u001b[0;34m*\u001b[0m\u001b[0margs\u001b[0m\u001b[0;34m,\u001b[0m \u001b[0mgoea_results\u001b[0m\u001b[0;34m=\u001b[0m\u001b[0mgoea_results\u001b[0m\u001b[0;34m,\u001b[0m \u001b[0;34m**\u001b[0m\u001b[0mkws\u001b[0m\u001b[0;34m)\u001b[0m\u001b[0;34m\u001b[0m\u001b[0m\n\u001b[0;32m---> 44\u001b[0;31m     \u001b[0mgodagplot\u001b[0m\u001b[0;34m.\u001b[0m\u001b[0mplt\u001b[0m\u001b[0;34m(\u001b[0m\u001b[0mfout_png\u001b[0m\u001b[0;34m,\u001b[0m \u001b[0mengine\u001b[0m\u001b[0;34m)\u001b[0m\u001b[0;34m\u001b[0m\u001b[0m\n\u001b[0m\u001b[1;32m     45\u001b[0m \u001b[0;34m\u001b[0m\u001b[0m\n\u001b[1;32m     46\u001b[0m \u001b[0;32mclass\u001b[0m \u001b[0mGODagPltVars\u001b[0m\u001b[0;34m(\u001b[0m\u001b[0mobject\u001b[0m\u001b[0;34m)\u001b[0m\u001b[0;34m:\u001b[0m\u001b[0;34m\u001b[0m\u001b[0m\n",
      "\u001b[0;32m/Applications/anaconda/lib/python2.7/site-packages/goatools/godag_plot.pyc\u001b[0m in \u001b[0;36mplt\u001b[0;34m(self, fout_img, engine)\u001b[0m\n\u001b[1;32m    161\u001b[0m         \u001b[0;34m\"\"\"Plot using pydot, graphviz, or GML.\"\"\"\u001b[0m\u001b[0;34m\u001b[0m\u001b[0m\n\u001b[1;32m    162\u001b[0m         \u001b[0;32mif\u001b[0m \u001b[0mengine\u001b[0m \u001b[0;34m==\u001b[0m \u001b[0;34m\"pydot\"\u001b[0m\u001b[0;34m:\u001b[0m\u001b[0;34m\u001b[0m\u001b[0m\n\u001b[0;32m--> 163\u001b[0;31m             \u001b[0mself\u001b[0m\u001b[0;34m.\u001b[0m\u001b[0m_plt_pydot\u001b[0m\u001b[0;34m(\u001b[0m\u001b[0mfout_img\u001b[0m\u001b[0;34m)\u001b[0m\u001b[0;34m\u001b[0m\u001b[0m\n\u001b[0m\u001b[1;32m    164\u001b[0m         \u001b[0;32melif\u001b[0m \u001b[0mengine\u001b[0m \u001b[0;34m==\u001b[0m \u001b[0;34m\"pygraphviz\"\u001b[0m\u001b[0;34m:\u001b[0m\u001b[0;34m\u001b[0m\u001b[0m\n\u001b[1;32m    165\u001b[0m             \u001b[0;32mraise\u001b[0m \u001b[0mException\u001b[0m\u001b[0;34m(\u001b[0m\u001b[0;34m\"TO BE IMPLEMENTED SOON: ENGINE pygraphvis\"\u001b[0m\u001b[0;34m)\u001b[0m\u001b[0;34m\u001b[0m\u001b[0m\n",
      "\u001b[0;32m/Applications/anaconda/lib/python2.7/site-packages/goatools/godag_plot.pyc\u001b[0m in \u001b[0;36m_plt_pydot\u001b[0;34m(self, fout_img)\u001b[0m\n\u001b[1;32m    173\u001b[0m         \u001b[0mdag\u001b[0m \u001b[0;34m=\u001b[0m \u001b[0mself\u001b[0m\u001b[0;34m.\u001b[0m\u001b[0m_get_pydot_graph\u001b[0m\u001b[0;34m(\u001b[0m\u001b[0;34m)\u001b[0m\u001b[0;34m\u001b[0m\u001b[0m\n\u001b[1;32m    174\u001b[0m         \u001b[0mimg_fmt\u001b[0m \u001b[0;34m=\u001b[0m \u001b[0mos\u001b[0m\u001b[0;34m.\u001b[0m\u001b[0mpath\u001b[0m\u001b[0;34m.\u001b[0m\u001b[0msplitext\u001b[0m\u001b[0;34m(\u001b[0m\u001b[0mfout_img\u001b[0m\u001b[0;34m)\u001b[0m\u001b[0;34m[\u001b[0m\u001b[0;36m1\u001b[0m\u001b[0;34m]\u001b[0m\u001b[0;34m[\u001b[0m\u001b[0;36m1\u001b[0m\u001b[0;34m:\u001b[0m\u001b[0;34m]\u001b[0m\u001b[0;34m\u001b[0m\u001b[0m\n\u001b[0;32m--> 175\u001b[0;31m         \u001b[0mdag\u001b[0m\u001b[0;34m.\u001b[0m\u001b[0mwrite\u001b[0m\u001b[0;34m(\u001b[0m\u001b[0mfout_img\u001b[0m\u001b[0;34m,\u001b[0m \u001b[0mformat\u001b[0m\u001b[0;34m=\u001b[0m\u001b[0mimg_fmt\u001b[0m\u001b[0;34m)\u001b[0m\u001b[0;34m\u001b[0m\u001b[0m\n\u001b[0m\u001b[1;32m    176\u001b[0m         self.log.write(\"  {GO_USR:>3} usr {GO_ALL:>3} GOs  WROTE: {F}\\n\".format(\n\u001b[1;32m    177\u001b[0m             \u001b[0mF\u001b[0m\u001b[0;34m=\u001b[0m\u001b[0mfout_img\u001b[0m\u001b[0;34m,\u001b[0m\u001b[0;34m\u001b[0m\u001b[0m\n",
      "\u001b[0;32m/Applications/anaconda/lib/python2.7/site-packages/pydot.pyc\u001b[0m in \u001b[0;36mwrite\u001b[0;34m(self, path, prog, format)\u001b[0m\n\u001b[1;32m   1772\u001b[0m                 \u001b[0ms\u001b[0m \u001b[0;34m=\u001b[0m \u001b[0municode\u001b[0m\u001b[0;34m(\u001b[0m\u001b[0ms\u001b[0m\u001b[0;34m)\u001b[0m\u001b[0;34m\u001b[0m\u001b[0m\n\u001b[1;32m   1773\u001b[0m         \u001b[0;32melse\u001b[0m\u001b[0;34m:\u001b[0m\u001b[0;34m\u001b[0m\u001b[0m\n\u001b[0;32m-> 1774\u001b[0;31m             \u001b[0ms\u001b[0m \u001b[0;34m=\u001b[0m \u001b[0mself\u001b[0m\u001b[0;34m.\u001b[0m\u001b[0mcreate\u001b[0m\u001b[0;34m(\u001b[0m\u001b[0mprog\u001b[0m\u001b[0;34m,\u001b[0m \u001b[0mformat\u001b[0m\u001b[0;34m)\u001b[0m\u001b[0;34m\u001b[0m\u001b[0m\n\u001b[0m\u001b[1;32m   1775\u001b[0m             \u001b[0mmode\u001b[0m \u001b[0;34m=\u001b[0m \u001b[0;34m'wb'\u001b[0m\u001b[0;34m\u001b[0m\u001b[0m\n\u001b[1;32m   1776\u001b[0m         \u001b[0;32mwith\u001b[0m \u001b[0mio\u001b[0m\u001b[0;34m.\u001b[0m\u001b[0mopen\u001b[0m\u001b[0;34m(\u001b[0m\u001b[0mpath\u001b[0m\u001b[0;34m,\u001b[0m \u001b[0mmode\u001b[0m\u001b[0;34m=\u001b[0m\u001b[0mmode\u001b[0m\u001b[0;34m)\u001b[0m \u001b[0;32mas\u001b[0m \u001b[0mf\u001b[0m\u001b[0;34m:\u001b[0m\u001b[0;34m\u001b[0m\u001b[0m\n",
      "\u001b[0;32m/Applications/anaconda/lib/python2.7/site-packages/pydot.pyc\u001b[0m in \u001b[0;36mcreate\u001b[0;34m(self, prog, format)\u001b[0m\n\u001b[1;32m   1881\u001b[0m                 raise Exception(\n\u001b[1;32m   1882\u001b[0m                     '\"{prog}\" not found in path.'.format(\n\u001b[0;32m-> 1883\u001b[0;31m                         prog=prog))\n\u001b[0m\u001b[1;32m   1884\u001b[0m             \u001b[0;32melse\u001b[0m\u001b[0;34m:\u001b[0m\u001b[0;34m\u001b[0m\u001b[0m\n\u001b[1;32m   1885\u001b[0m                 \u001b[0;32mraise\u001b[0m\u001b[0;34m\u001b[0m\u001b[0m\n",
      "\u001b[0;31mException\u001b[0m: \"dot\" not found in path."
     ]
    }
   ],
   "source": [
    "from goatools.godag_plot import plot_gos, plot_results, plot_goid2goobj\n",
    "\n",
    "plot_results(\"nbt3102_{NS}.png\", goea_results_sig)"
   ]
  },
  {
   "cell_type": "markdown",
   "metadata": {},
   "source": [
    "### 7a. These plots are likely to messy\n",
    "The *Cellular Component* plot is the smallest plot...\n",
    "![BIG CC PLOT](images/nbt3102_CC.png)"
   ]
  },
  {
   "cell_type": "markdown",
   "metadata": {},
   "source": [
    "### 7b. So make a smaller sub-plot\n",
    "This plot contains GOEA results:\n",
    "  * GO terms colored by P-value:\n",
    "    * pval < 0.005 (light red)\n",
    "    * pval < 0.01 (light orange)\n",
    "    * pval < 0.05 (yellow)\n",
    "    * pval > 0.05 (grey) Study terms that are not statistically significant\n",
    "  * GO terms with study gene counts printed. e.g., \"32 genes\""
   ]
  },
  {
   "cell_type": "code",
   "execution_count": 11,
   "metadata": {},
   "outputs": [
    {
     "name": "stdout",
     "output_type": "stream",
     "text": [
      "  WROTE: nbt3102_MF_RNA_genecnt.png\n"
     ]
    }
   ],
   "source": [
    "# Plot subset starting from these significant GO terms\n",
    "goid_subset = [\n",
    "    'GO:0003723', # MF D04 RNA binding (32 genes)\n",
    "    'GO:0044822', # MF D05 poly(A) RNA binding (86 genes)\n",
    "    'GO:0003729', # MF D06 mRNA binding (11 genes)\n",
    "    'GO:0019843', # MF D05 rRNA binding (6 genes)\n",
    "    'GO:0003746', # MF D06 translation elongation factor activity (5 genes)\n",
    "]\n",
    "plot_gos(\"nbt3102_MF_RNA_genecnt.png\", \n",
    "    goid_subset, # Source GO ids\n",
    "    obodag, \n",
    "    goea_results=goea_results_all) # Use pvals for coloring\n"
   ]
  },
  {
   "cell_type": "markdown",
   "metadata": {},
   "source": [
    "![RNA subplot](images/nbt3102_MF_RNA_genecnt.png)"
   ]
  },
  {
   "cell_type": "markdown",
   "metadata": {},
   "source": [
    "### 7c. Add study gene Symbols to plot\n",
    "e.g., *11 genes: Calr, Eef1a1, Pabpc1*"
   ]
  },
  {
   "cell_type": "code",
   "execution_count": 12,
   "metadata": {},
   "outputs": [
    {
     "name": "stdout",
     "output_type": "stream",
     "text": [
      "  WROTE: nbt3102_MF_RNA_Symbols.png\n"
     ]
    }
   ],
   "source": [
    "plot_gos(\"nbt3102_MF_RNA_Symbols.png\", \n",
    "    goid_subset, # Source GO ids\n",
    "    obodag,\n",
    "    goea_results=goea_results_all, # use pvals for coloring\n",
    "    # We can further configure the plot...\n",
    "    id2symbol=geneid2symbol, # Print study gene Symbols, not Entrez GeneIDs\n",
    "    study_items=6, # Only only 6 gene Symbols max on GO terms\n",
    "    items_p_line=3, # Print 3 genes per line\n",
    "    )"
   ]
  },
  {
   "cell_type": "markdown",
   "metadata": {},
   "source": [
    "![RNA subplot](images/nbt3102_MF_RNA_Symbols.png)"
   ]
  },
  {
   "cell_type": "markdown",
   "metadata": {},
   "source": [
    "Copyright (C) 2016, DV Klopfenstein, H Tang. All rights reserved."
   ]
  }
 ],
 "metadata": {
  "kernelspec": {
   "display_name": "Python 2",
   "language": "python",
   "name": "python2"
  },
  "language_info": {
   "codemirror_mode": {
    "name": "ipython",
    "version": 2
   },
   "file_extension": ".py",
   "mimetype": "text/x-python",
   "name": "python",
   "nbconvert_exporter": "python",
   "pygments_lexer": "ipython2",
   "version": "2.7.13"
  }
 },
 "nbformat": 4,
 "nbformat_minor": 1
}
